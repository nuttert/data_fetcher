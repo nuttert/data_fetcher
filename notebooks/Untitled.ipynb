{
 "cells": [
  {
   "cell_type": "code",
   "execution_count": 1,
   "metadata": {},
   "outputs": [],
   "source": [
    "import psycopg2 as pg\n",
    "import pandas.io.sql as psql\n",
    "import pandas"
   ]
  },
  {
   "cell_type": "code",
   "execution_count": 2,
   "metadata": {},
   "outputs": [],
   "source": [
    "connection = pg.connect(dbname='finan', user='postgres', \n",
    "                        password='postgres', host='database')"
   ]
  },
  {
   "cell_type": "code",
   "execution_count": 3,
   "metadata": {},
   "outputs": [],
   "source": [
    "cursor = connection.cursor()\n",
    "\n",
    "# for i in range(1,8):\n",
    "#     cursor.execute(\"ALTER TABLE investorplace  ADD COLUMN local_{}_hour  float;\".format(i))\n",
    "# connection.commit()\n"
   ]
  },
  {
   "cell_type": "code",
   "execution_count": 4,
   "metadata": {},
   "outputs": [],
   "source": []
  },
  {
   "cell_type": "code",
   "execution_count": 12,
   "metadata": {},
   "outputs": [
    {
     "data": {
      "text/plain": [
       "Series([], Name: company, dtype: object)"
      ]
     },
     "execution_count": 12,
     "metadata": {},
     "output_type": "execute_result"
    }
   ],
   "source": [
    "data = pandas.read_csv('/home/jovyan/csv_tables/SPX.csv')\n",
    "data.company[data.company != 'SPX']"
   ]
  },
  {
   "cell_type": "code",
   "execution_count": 105,
   "metadata": {},
   "outputs": [],
   "source": [
    "cursor.execute(\"DELETE FROM barrons\")"
   ]
  },
  {
   "cell_type": "code",
   "execution_count": 107,
   "metadata": {},
   "outputs": [],
   "source": [
    "connection.commit()"
   ]
  },
  {
   "cell_type": "code",
   "execution_count": 9,
   "metadata": {},
   "outputs": [
    {
     "data": {
      "text/html": [
       "<div>\n",
       "<style scoped>\n",
       "    .dataframe tbody tr th:only-of-type {\n",
       "        vertical-align: middle;\n",
       "    }\n",
       "\n",
       "    .dataframe tbody tr th {\n",
       "        vertical-align: top;\n",
       "    }\n",
       "\n",
       "    .dataframe thead th {\n",
       "        text-align: right;\n",
       "    }\n",
       "</style>\n",
       "<table border=\"1\" class=\"dataframe\">\n",
       "  <thead>\n",
       "    <tr style=\"text-align: right;\">\n",
       "      <th></th>\n",
       "      <th>name</th>\n",
       "      <th>price</th>\n",
       "    </tr>\n",
       "  </thead>\n",
       "  <tbody>\n",
       "    <tr>\n",
       "      <th>0</th>\n",
       "      <td>Коляска для куклы WJ-13695</td>\n",
       "      <td>1199.0</td>\n",
       "    </tr>\n",
       "    <tr>\n",
       "      <th>1</th>\n",
       "      <td>Коляска для куклы WJ-13861</td>\n",
       "      <td>1399.0</td>\n",
       "    </tr>\n",
       "    <tr>\n",
       "      <th>2</th>\n",
       "      <td>Коляска для куклы WJ-13865</td>\n",
       "      <td>1499.0</td>\n",
       "    </tr>\n",
       "    <tr>\n",
       "      <th>3</th>\n",
       "      <td>Коляска-трость Zlatek Micra зеленая</td>\n",
       "      <td>1590.0</td>\n",
       "    </tr>\n",
       "    <tr>\n",
       "      <th>4</th>\n",
       "      <td>Коляска-трость Zlatek Micra голубая</td>\n",
       "      <td>1590.0</td>\n",
       "    </tr>\n",
       "    <tr>\n",
       "      <th>...</th>\n",
       "      <td>...</td>\n",
       "      <td>...</td>\n",
       "    </tr>\n",
       "    <tr>\n",
       "      <th>921</th>\n",
       "      <td>Коляска прогулочная Inglesina Quid с чехлом на...</td>\n",
       "      <td>NaN</td>\n",
       "    </tr>\n",
       "    <tr>\n",
       "      <th>922</th>\n",
       "      <td>Коляска прогулочная Inglesina Quid с чехлом на...</td>\n",
       "      <td>NaN</td>\n",
       "    </tr>\n",
       "    <tr>\n",
       "      <th>923</th>\n",
       "      <td>Коляска прогулочная Inglesina Quid с чехлом на...</td>\n",
       "      <td>NaN</td>\n",
       "    </tr>\n",
       "    <tr>\n",
       "      <th>924</th>\n",
       "      <td>Коляска прогулочная Inglesina Quid с чехлом на...</td>\n",
       "      <td>NaN</td>\n",
       "    </tr>\n",
       "    <tr>\n",
       "      <th>925</th>\n",
       "      <td>Коляска прогулочная Inglesina Quid с чехлом на...</td>\n",
       "      <td>NaN</td>\n",
       "    </tr>\n",
       "  </tbody>\n",
       "</table>\n",
       "<p>926 rows × 2 columns</p>\n",
       "</div>"
      ],
      "text/plain": [
       "                                                  name   price\n",
       "0                           Коляска для куклы WJ-13695  1199.0\n",
       "1                           Коляска для куклы WJ-13861  1399.0\n",
       "2                           Коляска для куклы WJ-13865  1499.0\n",
       "3                  Коляска-трость Zlatek Micra зеленая  1590.0\n",
       "4                  Коляска-трость Zlatek Micra голубая  1590.0\n",
       "..                                                 ...     ...\n",
       "921  Коляска прогулочная Inglesina Quid с чехлом на...     NaN\n",
       "922  Коляска прогулочная Inglesina Quid с чехлом на...     NaN\n",
       "923  Коляска прогулочная Inglesina Quid с чехлом на...     NaN\n",
       "924  Коляска прогулочная Inglesina Quid с чехлом на...     NaN\n",
       "925  Коляска прогулочная Inglesina Quid с чехлом на...     NaN\n",
       "\n",
       "[926 rows x 2 columns]"
      ]
     },
     "execution_count": 9,
     "metadata": {},
     "output_type": "execute_result"
    }
   ],
   "source": [
    "name = \"detkishop\"\n",
    "dataframe = psql.read_sql(\"\"\"SELECT * FROM {} ORDER BY price;\n",
    "                             \"\"\".format(name), connection)\n",
    "dataframe.to_excel(\"{}.xlsx\".format(name))\n",
    "dataframe"
   ]
  },
  {
   "cell_type": "code",
   "execution_count": 13,
   "metadata": {},
   "outputs": [],
   "source": []
  },
  {
   "cell_type": "code",
   "execution_count": 12,
   "metadata": {},
   "outputs": [
    {
     "name": "stdout",
     "output_type": "stream",
     "text": [
      "Collecting openpyxl\n",
      "  Downloading openpyxl-3.0.9-py2.py3-none-any.whl (242 kB)\n",
      "     |████████████████████████████████| 242 kB 2.9 MB/s            \n",
      "\u001b[?25hCollecting et-xmlfile\n",
      "  Downloading et_xmlfile-1.1.0-py3-none-any.whl (4.7 kB)\n",
      "Installing collected packages: et-xmlfile, openpyxl\n",
      "Successfully installed et-xmlfile-1.1.0 openpyxl-3.0.9\n"
     ]
    }
   ],
   "source": [
    "!pip3 install openpyxl"
   ]
  },
  {
   "cell_type": "code",
   "execution_count": 98,
   "metadata": {},
   "outputs": [
    {
     "data": {
      "text/plain": [
       "array(['NIO'], dtype=object)"
      ]
     },
     "execution_count": 98,
     "metadata": {},
     "output_type": "execute_result"
    }
   ],
   "source": [
    "dataframe.company.unique()"
   ]
  },
  {
   "cell_type": "code",
   "execution_count": 73,
   "metadata": {},
   "outputs": [],
   "source": [
    "# columns = \"company, news_portal, title, date, link, brief, author, text\"\n",
    "# psql.execute(\"\"\"\n",
    "# UPDATE yahoo SET company='SPX'\n",
    "# WHERE company!='NIO' and company is not NULL;\n",
    "# \"\"\", connection)\n",
    "# psql.execute(\"\"\"\n",
    "# UPDATE investorplace SET company='SPX'\n",
    "# WHERE company!='NIO' and company is not NULL;\n",
    "# \"\"\", connection)\n",
    "# psql.execute(\"\"\"\n",
    "# UPDATE barrons SET company='SPX'\n",
    "# WHERE company!='NIO' and company is not NULL;\n",
    "# \"\"\", connection)\n",
    "# psql.execute(\"\"\"\n",
    "# UPDATE fool SET company='SPX'\n",
    "# WHERE company!='NIO' and company is not NULL;\n",
    "# \"\"\", connection)\n",
    "# psql.execute(\"\"\"\n",
    "# UPDATE market_watch SET company='SPX'\n",
    "# WHERE company!='NIO' and company is not NULL;\n",
    "# \"\"\", connection)\n",
    "# dataframe = psql.read_sql(\"\"\"SELECT * FROM(SELECT {0} FROM investorplace \n",
    "#                              UNION \n",
    "#                              SELECT {0} FROM yahoo\n",
    "#                              UNION\n",
    "#                              SELECT {0} FROM barrons\n",
    "#                              UNION\n",
    "#                              SELECT {0} FROM fool\n",
    "#                              UNION\n",
    "#                              SELECT {0} FROM market_watch) AS joined  \n",
    "#                              WHERE joined.company='SPX';\n",
    "#                              \"\"\".format(columns), connection)"
   ]
  },
  {
   "cell_type": "code",
   "execution_count": 75,
   "metadata": {},
   "outputs": [],
   "source": [
    "dataframe.to_csv('/yahoo/tables/SPX.csv')"
   ]
  },
  {
   "cell_type": "code",
   "execution_count": 208,
   "metadata": {},
   "outputs": [],
   "source": [
    "connection.close()"
   ]
  },
  {
   "cell_type": "code",
   "execution_count": 60,
   "metadata": {},
   "outputs": [
    {
     "name": "stdout",
     "output_type": "stream",
     "text": [
      "[*********************100%***********************]  1 of 1 completed\n"
     ]
    },
    {
     "data": {
      "image/png": "[encoded data removed]",
      "text/plain": [
       "<Figure size 432x288 with 1 Axes>"
      ]
     },
     "metadata": {
      "needs_background": "light"
     },
     "output_type": "display_data"
    }
   ],
   "source": [
    "import yfinance as yf\n",
    "\n",
    "\n",
    "# Get the data for the stock AAPL\n",
    "data = yf.download('NIO','2019-11-18',period='5d', interval=\"1h\")\n",
    "\n",
    "# Import the plotting library\n",
    "import matplotlib.pyplot as plt\n",
    "%matplotlib inline\n",
    "\n",
    "# Plot the close price of the AAPL\n",
    "data['Adj Close'].plot()\n",
    "plt.show()"
   ]
  },
  {
   "cell_type": "code",
   "execution_count": 61,
   "metadata": {},
   "outputs": [
    {
     "data": {
      "text/html": [
       "<div>\n",
       "<style scoped>\n",
       "    .dataframe tbody tr th:only-of-type {\n",
       "        vertical-align: middle;\n",
       "    }\n",
       "\n",
       "    .dataframe tbody tr th {\n",
       "        vertical-align: top;\n",
       "    }\n",
       "\n",
       "    .dataframe thead th {\n",
       "        text-align: right;\n",
       "    }\n",
       "</style>\n",
       "<table border=\"1\" class=\"dataframe\">\n",
       "  <thead>\n",
       "    <tr style=\"text-align: right;\">\n",
       "      <th></th>\n",
       "      <th>Open</th>\n",
       "      <th>High</th>\n",
       "      <th>Low</th>\n",
       "      <th>Close</th>\n",
       "      <th>Adj Close</th>\n",
       "      <th>Volume</th>\n",
       "    </tr>\n",
       "    <tr>\n",
       "      <th>Date</th>\n",
       "      <th></th>\n",
       "      <th></th>\n",
       "      <th></th>\n",
       "      <th></th>\n",
       "      <th></th>\n",
       "      <th></th>\n",
       "    </tr>\n",
       "  </thead>\n",
       "  <tbody>\n",
       "    <tr>\n",
       "      <th>2019-11-18</th>\n",
       "      <td>1.880000</td>\n",
       "      <td>1.900000</td>\n",
       "      <td>1.780000</td>\n",
       "      <td>1.795000</td>\n",
       "      <td>1.795000</td>\n",
       "      <td>11304262</td>\n",
       "    </tr>\n",
       "    <tr>\n",
       "      <th>2019-11-18</th>\n",
       "      <td>1.795000</td>\n",
       "      <td>1.819100</td>\n",
       "      <td>1.730000</td>\n",
       "      <td>1.775000</td>\n",
       "      <td>1.775000</td>\n",
       "      <td>5622818</td>\n",
       "    </tr>\n",
       "    <tr>\n",
       "      <th>2019-11-18</th>\n",
       "      <td>1.770000</td>\n",
       "      <td>1.790000</td>\n",
       "      <td>1.750000</td>\n",
       "      <td>1.775000</td>\n",
       "      <td>1.775000</td>\n",
       "      <td>2195737</td>\n",
       "    </tr>\n",
       "    <tr>\n",
       "      <th>2019-11-18</th>\n",
       "      <td>1.775000</td>\n",
       "      <td>1.790000</td>\n",
       "      <td>1.760000</td>\n",
       "      <td>1.780000</td>\n",
       "      <td>1.780000</td>\n",
       "      <td>2558483</td>\n",
       "    </tr>\n",
       "    <tr>\n",
       "      <th>2019-11-18</th>\n",
       "      <td>1.785000</td>\n",
       "      <td>1.790000</td>\n",
       "      <td>1.770000</td>\n",
       "      <td>1.775000</td>\n",
       "      <td>1.775000</td>\n",
       "      <td>853224</td>\n",
       "    </tr>\n",
       "    <tr>\n",
       "      <th>...</th>\n",
       "      <td>...</td>\n",
       "      <td>...</td>\n",
       "      <td>...</td>\n",
       "      <td>...</td>\n",
       "      <td>...</td>\n",
       "      <td>...</td>\n",
       "    </tr>\n",
       "    <tr>\n",
       "      <th>2020-11-25</th>\n",
       "      <td>53.930000</td>\n",
       "      <td>53.959999</td>\n",
       "      <td>53.299999</td>\n",
       "      <td>53.689999</td>\n",
       "      <td>53.689999</td>\n",
       "      <td>10518592</td>\n",
       "    </tr>\n",
       "    <tr>\n",
       "      <th>2020-11-27</th>\n",
       "      <td>54.860001</td>\n",
       "      <td>55.549999</td>\n",
       "      <td>52.930000</td>\n",
       "      <td>54.349998</td>\n",
       "      <td>54.349998</td>\n",
       "      <td>48085650</td>\n",
       "    </tr>\n",
       "    <tr>\n",
       "      <th>2020-11-27</th>\n",
       "      <td>54.360001</td>\n",
       "      <td>54.560001</td>\n",
       "      <td>53.009998</td>\n",
       "      <td>53.066200</td>\n",
       "      <td>53.066200</td>\n",
       "      <td>21799012</td>\n",
       "    </tr>\n",
       "    <tr>\n",
       "      <th>2020-11-27</th>\n",
       "      <td>53.070000</td>\n",
       "      <td>54.165001</td>\n",
       "      <td>52.599998</td>\n",
       "      <td>53.984798</td>\n",
       "      <td>53.984798</td>\n",
       "      <td>25545224</td>\n",
       "    </tr>\n",
       "    <tr>\n",
       "      <th>2020-11-27</th>\n",
       "      <td>53.985001</td>\n",
       "      <td>54.060001</td>\n",
       "      <td>53.680000</td>\n",
       "      <td>53.880001</td>\n",
       "      <td>53.880001</td>\n",
       "      <td>0</td>\n",
       "    </tr>\n",
       "  </tbody>\n",
       "</table>\n",
       "<p>1811 rows × 6 columns</p>\n",
       "</div>"
      ],
      "text/plain": [
       "                 Open       High        Low      Close  Adj Close    Volume\n",
       "Date                                                                       \n",
       "2019-11-18   1.880000   1.900000   1.780000   1.795000   1.795000  11304262\n",
       "2019-11-18   1.795000   1.819100   1.730000   1.775000   1.775000   5622818\n",
       "2019-11-18   1.770000   1.790000   1.750000   1.775000   1.775000   2195737\n",
       "2019-11-18   1.775000   1.790000   1.760000   1.780000   1.780000   2558483\n",
       "2019-11-18   1.785000   1.790000   1.770000   1.775000   1.775000    853224\n",
       "...               ...        ...        ...        ...        ...       ...\n",
       "2020-11-25  53.930000  53.959999  53.299999  53.689999  53.689999  10518592\n",
       "2020-11-27  54.860001  55.549999  52.930000  54.349998  54.349998  48085650\n",
       "2020-11-27  54.360001  54.560001  53.009998  53.066200  53.066200  21799012\n",
       "2020-11-27  53.070000  54.165001  52.599998  53.984798  53.984798  25545224\n",
       "2020-11-27  53.985001  54.060001  53.680000  53.880001  53.880001         0\n",
       "\n",
       "[1811 rows x 6 columns]"
      ]
     },
     "execution_count": 61,
     "metadata": {},
     "output_type": "execute_result"
    }
   ],
   "source": [
    "data"
   ]
  },
  {
   "cell_type": "code",
   "execution_count": 248,
   "metadata": {},
   "outputs": [
    {
     "name": "stdout",
     "output_type": "stream",
     "text": [
      "[*********************100%***********************]  1 of 1 completed\n",
      "[*********************100%***********************]  1 of 1 completed\n",
      "\n",
      "1 Failed download:\n",
      "- NIO: 1h data not available for startTime=1536969600 and endTime=1537142400. The requested range must be within the last 730 days.\n",
      "UPDATE investorplace SET global_1_day=null,global_2_day=null,global_3_day=null,global_4_day=null,global_5_day=null,global_6_day=null,global_7_day=null,global_8_day=null,global_9_day=null,global_10_day=null,global_11_day=null,global_12_day=null,global_13_day=null,global_14_day=null,global_15_day=null,global_16_day=null,global_17_day=null,global_18_day=null,global_19_day=null,global_20_day=null,global_21_day=null,global_22_day=null,global_23_day=null,global_24_day=null,global_25_day=null,global_26_day=null,global_27_day=null,global_28_day=0.09999998410542799,global_29_day=0.7522659489426964,global_30_day=-0.21800949937973502,local_1_hour=null,local_2_hour=null,local_3_hour=null,local_4_hour=null,local_5_hour=null,local_6_hour=null,local_7_hour=null WHERE date='2018-09-17 23:07:00+00:00'\n",
      "[*********************100%***********************]  1 of 1 completed\n",
      "[*********************100%***********************]  1 of 1 completed\n",
      "\n",
      "1 Failed download:\n",
      "- NIO: 1h data not available for startTime=1538265600 and endTime=1538438400. The requested range must be within the last 730 days.\n",
      "UPDATE investorplace SET global_1_day=null,global_2_day=null,global_3_day=null,global_4_day=null,global_5_day=null,global_6_day=null,global_7_day=null,global_8_day=null,global_9_day=null,global_10_day=null,global_11_day=null,global_12_day=null,global_13_day=null,global_14_day=null,global_15_day=null,global_16_day=null,global_17_day=0.09999998410542799,global_18_day=0.7522659489426964,global_19_day=-0.21800949937973502,global_20_day=-0.11550465102316554,global_21_day=-0.12027488762373184,global_22_day=0.07868018738005711,global_23_day=-0.031973536009986314,global_24_day=-0.05082873242565322,global_25_day=-0.05408651752055671,global_26_day=-0.0595534083028586,global_27_day=-0.01185772737530233,global_28_day=-0.07152317194848545,global_29_day=0.001434753110883591,global_30_day=-0.06515581329677311,local_1_hour=null,local_2_hour=null,local_3_hour=null,local_4_hour=null,local_5_hour=null,local_6_hour=null,local_7_hour=null WHERE date='2018-10-02 18:43:00+00:00'\n",
      "[*********************100%***********************]  1 of 1 completed\n",
      "[*********************100%***********************]  1 of 1 completed\n",
      "\n",
      "1 Failed download:\n",
      "- NIO: 1h data not available for startTime=1538956800 and endTime=1539129600. The requested range must be within the last 730 days.\n",
      "UPDATE investorplace SET global_1_day=null,global_2_day=null,global_3_day=null,global_4_day=null,global_5_day=null,global_6_day=null,global_7_day=null,global_8_day=null,global_9_day=null,global_10_day=null,global_11_day=0.09999998410542799,global_12_day=0.7522659489426964,global_13_day=-0.21800949937973502,global_14_day=-0.11550465102316554,global_15_day=-0.12027488762373184,global_16_day=0.07868018738005711,global_17_day=-0.031973536009986314,global_18_day=-0.05082873242565322,global_19_day=-0.05408651752055671,global_20_day=-0.0595534083028586,global_21_day=-0.01185772737530233,global_22_day=-0.07152317194848545,global_23_day=0.001434753110883591,global_24_day=-0.06515581329677311,global_25_day=-0.10151516454169485,global_26_day=0.029411815121192175,global_27_day=0.00969304397817461,global_28_day=0.009677487332666601,global_29_day=-0.004942373799000865,global_30_day=0.19386103363042317,local_1_hour=null,local_2_hour=null,local_3_hour=null,local_4_hour=null,local_5_hour=null,local_6_hour=null,local_7_hour=null WHERE date='2018-10-10 17:46:00+00:00'\n",
      "[*********************100%***********************]  1 of 1 completed\n",
      "[*********************100%***********************]  1 of 1 completed\n",
      "\n",
      "1 Failed download:\n",
      "- NIO: 1h data not available for startTime=1539475200 and endTime=1539648000. The requested range must be within the last 730 days.\n",
      "UPDATE investorplace SET global_1_day=null,global_2_day=null,global_3_day=null,global_4_day=null,global_5_day=null,global_6_day=null,global_7_day=0.09999998410542799,global_8_day=0.7522659489426964,global_9_day=-0.21800949937973502,global_10_day=-0.11550465102316554,global_11_day=-0.12027488762373184,global_12_day=0.07868018738005711,global_13_day=-0.031973536009986314,global_14_day=-0.05082873242565322,global_15_day=-0.05408651752055671,global_16_day=-0.0595534083028586,global_17_day=-0.01185772737530233,global_18_day=-0.07152317194848545,global_19_day=0.001434753110883591,global_20_day=-0.06515581329677311,global_21_day=-0.10151516454169485,global_22_day=0.029411815121192175,global_23_day=0.00969304397817461,global_24_day=0.009677487332666601,global_25_day=-0.004942373799000865,global_26_day=0.19386103363042317,global_27_day=-0.04320992160326542,global_28_day=-0.034946267054058455,global_29_day=0.0,global_30_day=-0.005089053584423131,local_1_hour=null,local_2_hour=null,local_3_hour=null,local_4_hour=null,local_5_hour=null,local_6_hour=null,local_7_hour=null WHERE date='2018-10-16 15:31:00+00:00'\n",
      "[*********************100%***********************]  1 of 1 completed\n",
      "[*********************100%***********************]  1 of 1 completed\n",
      "\n",
      "1 Failed download:\n",
      "- NIO: 1h data not available for startTime=1539561600 and endTime=1539734400. The requested range must be within the last 730 days.\n",
      "UPDATE investorplace SET global_1_day=null,global_2_day=null,global_3_day=null,global_4_day=null,global_5_day=null,global_6_day=0.09999998410542799,global_7_day=0.7522659489426964,global_8_day=-0.21800949937973502,global_9_day=-0.11550465102316554,global_10_day=-0.12027488762373184,global_11_day=0.07868018738005711,global_12_day=-0.031973536009986314,global_13_day=-0.05082873242565322,global_14_day=-0.05408651752055671,global_15_day=-0.0595534083028586,global_16_day=-0.01185772737530233,global_17_day=-0.07152317194848545,global_18_day=0.001434753110883591,global_19_day=-0.06515581329677311,global_20_day=-0.10151516454169485,global_21_day=0.029411815121192175,global_22_day=0.00969304397817461,global_23_day=0.009677487332666601,global_24_day=-0.004942373799000865,global_25_day=0.19386103363042317,global_26_day=-0.04320992160326542,global_27_day=-0.034946267054058455,global_28_day=0.0,global_29_day=-0.005089053584423131,global_30_day=-0.0024814462434759044,local_1_hour=null,local_2_hour=null,local_3_hour=null,local_4_hour=null,local_5_hour=null,local_6_hour=null,local_7_hour=null WHERE date='2018-10-17 15:39:00+00:00'\n",
      "[*********************100%***********************]  1 of 1 completed\n",
      "[*********************100%***********************]  1 of 1 completed\n",
      "\n",
      "1 Failed download:\n",
      "- NIO: 1h data not available for startTime=1541289600 and endTime=1541462400. The requested range must be within the last 730 days.\n",
      "UPDATE investorplace SET global_1_day=-0.0595534083028586,global_2_day=-0.01185772737530233,global_3_day=-0.07152317194848545,global_4_day=0.001434753110883591,global_5_day=-0.06515581329677311,global_6_day=-0.10151516454169485,global_7_day=0.029411815121192175,global_8_day=0.00969304397817461,global_9_day=0.009677487332666601,global_10_day=-0.004942373799000865,global_11_day=0.19386103363042317,global_12_day=-0.04320992160326542,global_13_day=-0.034946267054058455,global_14_day=0.0,global_15_day=-0.005089053584423131,global_16_day=-0.0024814462434759044,global_17_day=-0.04310343713859177,global_18_day=-0.013157882353605488,global_19_day=-0.03557311930151341,global_20_day=-0.08463536888787726,global_21_day=0.010385782498292917,global_22_day=-0.0992700493147084,global_23_day=0.02870810668041246,global_24_day=0.022544261775458985,global_25_day=-0.05206740301128865,global_26_day=-0.04032258188563265,global_27_day=-0.02960523529561243,global_28_day=0.10333331425984693,global_29_day=-0.05116964527220147,global_30_day=0.024539853969351322,local_1_hour=null,local_2_hour=null,local_3_hour=null,local_4_hour=null,local_5_hour=null,local_6_hour=null,local_7_hour=null WHERE date='2018-11-06 16:24:00+00:00'\n",
      "[*********************100%***********************]  1 of 1 completed\n",
      "[*********************100%***********************]  1 of 1 completed\n",
      "\n",
      "1 Failed download:\n",
      "- NIO: 1h data not available for startTime=1541289600 and endTime=1541462400. The requested range must be within the last 730 days.\n",
      "UPDATE investorplace SET global_1_day=-0.0595534083028586,global_2_day=-0.01185772737530233,global_3_day=-0.07152317194848545,global_4_day=0.001434753110883591,global_5_day=-0.06515581329677311,global_6_day=-0.10151516454169485,global_7_day=0.029411815121192175,global_8_day=0.00969304397817461,global_9_day=0.009677487332666601,global_10_day=-0.004942373799000865,global_11_day=0.19386103363042317,global_12_day=-0.04320992160326542,global_13_day=-0.034946267054058455,global_14_day=0.0,global_15_day=-0.005089053584423131,global_16_day=-0.0024814462434759044,global_17_day=-0.04310343713859177,global_18_day=-0.013157882353605488,global_19_day=-0.03557311930151341,global_20_day=-0.08463536888787726,global_21_day=0.010385782498292917,global_22_day=-0.0992700493147084,global_23_day=0.02870810668041246,global_24_day=0.022544261775458985,global_25_day=-0.05206740301128865,global_26_day=-0.04032258188563265,global_27_day=-0.02960523529561243,global_28_day=0.10333331425984693,global_29_day=-0.05116964527220147,global_30_day=0.024539853969351322,local_1_hour=null,local_2_hour=null,local_3_hour=null,local_4_hour=null,local_5_hour=null,local_6_hour=null,local_7_hour=null WHERE date='2018-11-06 17:09:00+00:00'\n"
     ]
    }
   ],
   "source": [
    "from datetime import datetime, timedelta\n",
    "from dateutil.relativedelta import relativedelta\n",
    "import pandas as pd\n",
    "import numpy as np\n",
    "\n",
    "global_stocks = []\n",
    "\n",
    "days = []\n",
    "days_amount = 30\n",
    "for day in range(1,days_amount+1):\n",
    "    days.append(\"global_{}_day\".format(day))\n",
    "\n",
    "hours = []\n",
    "hours_amount = 7\n",
    "for hour in range(1,hours_amount+1):\n",
    "    hours.append(\"local_{}_hour\".format(hour))\n",
    "\n",
    "               \n",
    "for paper_index in range(7):\n",
    "    paper = dataframe.loc[paper_index]\n",
    "    \n",
    "    start_date = paper['date'].date()-relativedelta(months=2)\n",
    "    end_date = paper['date'].date()\n",
    "    \n",
    "    stocks = yf.download('NIO',start_date,end_date)\n",
    "    stocks_close = stocks['Adj Close'][-days_amount:].values\n",
    "    stocks_open = stocks['Open'][-days_amount:].values\n",
    "    stocks = stocks_close/stocks_open-1\n",
    "    stocks = list([None]*(days_amount-len(stocks)))+list(stocks)\n",
    "    stocks = list(map(lambda x: str(x) if x!=None and not np.isnan(x) else \"null\", stocks))\n",
    "    \n",
    "    \n",
    "    setter = [\"{}={}\".format(day,stock) for day,stock in zip(days,stocks)]\n",
    "\n",
    "    start_date = paper['date'].date()-relativedelta(days=2)\n",
    "    end_date = paper['date'].date()\n",
    "    \n",
    "    stocks = yf.download('NIO',start_date,end_date, interval='1h')\n",
    "    stocks_close = stocks['Adj Close'][-hours_amount:].values\n",
    "    stocks_open = stocks['Open'][-hours_amount:].values\n",
    "    stocks = stocks_close/stocks_open-1\n",
    "    stocks = list([None]*(days_amount-len(stocks)))+list(stocks)\n",
    "    stocks = list(map(lambda x: str(x) if x!=None and not np.isnan(x) else \"null\", stocks))\n",
    "    \n",
    "    setter += [\"{}={}\".format(hour,stock) for hour,stock in zip(hours,stocks)]\n",
    "    \n",
    "    insert = \"UPDATE investorplace SET {} WHERE date='{}'\".format(\",\".join(setter), str(paper['date']))\n",
    "    print(insert)\n",
    "    cursor.execute(insert)\n",
    "connection.commit()"
   ]
  },
  {
   "cell_type": "code",
   "execution_count": 73,
   "metadata": {},
   "outputs": [
    {
     "data": {
      "text/plain": [
       "datetime.date(2018, 9, 17)"
      ]
     },
     "execution_count": 73,
     "metadata": {},
     "output_type": "execute_result"
    }
   ],
   "source": [
    "dataframe.loc[0]['date'].date()"
   ]
  },
  {
   "cell_type": "code",
   "execution_count": 84,
   "metadata": {},
   "outputs": [
    {
     "data": {
      "text/plain": [
       "[4, 5]"
      ]
     },
     "execution_count": 84,
     "metadata": {},
     "output_type": "execute_result"
    }
   ],
   "source": [
    "[1,2,3,4,5][-2:]"
   ]
  },
  {
   "cell_type": "code",
   "execution_count": 111,
   "metadata": {},
   "outputs": [
    {
     "ename": "IndexError",
     "evalue": "Replacement index 8 out of range for positional args tuple",
     "output_type": "error",
     "traceback": [
      "\u001b[0;31m---------------------------------------------------------------------------\u001b[0m",
      "\u001b[0;31mIndexError\u001b[0m                                Traceback (most recent call last)",
      "\u001b[0;32m<ipython-input-111-fb1cd969b80e>\u001b[0m in \u001b[0;36m<module>\u001b[0;34m\u001b[0m\n\u001b[0;32m----> 1\u001b[0;31m \u001b[0;34m(\u001b[0m\u001b[0;34m\"{} \"\u001b[0m\u001b[0;34m*\u001b[0m\u001b[0;36m30\u001b[0m\u001b[0;34m)\u001b[0m\u001b[0;34m.\u001b[0m\u001b[0mformat\u001b[0m\u001b[0;34m(\u001b[0m\u001b[0;34m*\u001b[0m\u001b[0;34m(\u001b[0m\u001b[0;34m[\u001b[0m\u001b[0;32mNone\u001b[0m\u001b[0;34m]\u001b[0m\u001b[0;34m*\u001b[0m\u001b[0;34m(\u001b[0m\u001b[0;36m30\u001b[0m\u001b[0;34m-\u001b[0m\u001b[0mlen\u001b[0m\u001b[0;34m(\u001b[0m\u001b[0mglobal_stocks\u001b[0m\u001b[0;34m[\u001b[0m\u001b[0;36m4\u001b[0m\u001b[0;34m]\u001b[0m\u001b[0;34m)\u001b[0m\u001b[0;34m)\u001b[0m\u001b[0;34m)\u001b[0m\u001b[0;34m,\u001b[0m \u001b[0;34m*\u001b[0m\u001b[0mglobal_stocks\u001b[0m\u001b[0;34m[\u001b[0m\u001b[0;36m0\u001b[0m\u001b[0;34m]\u001b[0m\u001b[0;34m)\u001b[0m\u001b[0;34m\u001b[0m\u001b[0;34m\u001b[0m\u001b[0m\n\u001b[0m",
      "\u001b[0;31mIndexError\u001b[0m: Replacement index 8 out of range for positional args tuple"
     ]
    }
   ],
   "source": [
    "(\"{} \"*30).format(*([None]*(30-len(global_stocks[4]))), *global_stocks[0])"
   ]
  },
  {
   "cell_type": "code",
   "execution_count": 115,
   "metadata": {},
   "outputs": [
    {
     "data": {
      "text/plain": [
       "'1'"
      ]
     },
     "execution_count": 115,
     "metadata": {},
     "output_type": "execute_result"
    }
   ],
   "source": [
    "\"{}\".format(*[None]*0,1)"
   ]
  },
  {
   "cell_type": "code",
   "execution_count": 207,
   "metadata": {},
   "outputs": [
    {
     "data": {
      "text/plain": [
       "True"
      ]
     },
     "execution_count": 207,
     "metadata": {},
     "output_type": "execute_result"
    }
   ],
   "source": [
    "np.isnan(stocks[-3])"
   ]
  },
  {
   "cell_type": "code",
   "execution_count": 232,
   "metadata": {},
   "outputs": [
    {
     "data": {
      "text/plain": [
       "['-0.0595534083028586',\n",
       " '-0.01185772737530233',\n",
       " '-0.07152317194848545',\n",
       " '0.001434753110883591',\n",
       " '-0.06515581329677311',\n",
       " '-0.10151516454169485',\n",
       " '0.029411815121192175',\n",
       " '0.00969304397817461',\n",
       " '0.009677487332666601',\n",
       " '-0.004942373799000865',\n",
       " '0.19386103363042317',\n",
       " '-0.04320992160326542',\n",
       " '-0.034946267054058455',\n",
       " 'null',\n",
       " '-0.005089053584423131',\n",
       " '-0.0024814462434759044',\n",
       " '-0.04310343713859177',\n",
       " '-0.013157882353605488',\n",
       " '-0.03557311930151341',\n",
       " '-0.08463536888787726',\n",
       " '0.010385782498292917',\n",
       " '-0.0992700493147084',\n",
       " '0.02870810668041246',\n",
       " '0.022544261775458985',\n",
       " '-0.05206740301128865',\n",
       " '-0.04032258188563265',\n",
       " '-0.02960523529561243',\n",
       " '0.10333331425984693',\n",
       " '-0.05116964527220147',\n",
       " '0.024539853969351322']"
      ]
     },
     "execution_count": 232,
     "metadata": {},
     "output_type": "execute_result"
    }
   ],
   "source": [
    "stocks"
   ]
  },
  {
   "cell_type": "code",
   "execution_count": 233,
   "metadata": {},
   "outputs": [
    {
     "data": {
      "text/plain": [
       "array([7.57999992, 7.5       , 7.01000023, 6.98000002, 6.5999999 ,\n",
       "       5.92999983, 6.30000019, 6.25      , 6.26000023, 6.03999996,\n",
       "       7.38999987, 7.75      , 7.17999983, 7.46000004, 7.82000017,\n",
       "       8.03999996, 7.76999998, 7.5       , 7.32000017, 7.03000021,\n",
       "       6.80999994, 6.17000008, 6.44999981, 6.3499999 , 6.19000006,\n",
       "       5.94999981, 5.9000001 , 6.61999989, 6.48999977, 6.67999983])"
      ]
     },
     "execution_count": 233,
     "metadata": {},
     "output_type": "execute_result"
    }
   ],
   "source": [
    "stocks_close"
   ]
  },
  {
   "cell_type": "code",
   "execution_count": 234,
   "metadata": {},
   "outputs": [
    {
     "data": {
      "text/plain": [
       "array([8.06000042, 7.59000015, 7.55000019, 6.96999979, 7.05999994,\n",
       "       6.5999999 , 6.11999989, 6.19000006, 6.19999981, 6.07000017,\n",
       "       6.19000006, 8.10000038, 7.44000006, 7.46000004, 7.86000013,\n",
       "       8.06000042, 8.11999989, 7.5999999 , 7.59000015, 7.67999983,\n",
       "       6.73999977, 6.8499999 , 6.26999998, 6.21000004, 6.53000021,\n",
       "       6.19999981, 6.07999992, 6.        , 6.84000015, 6.51999998])"
      ]
     },
     "execution_count": 234,
     "metadata": {},
     "output_type": "execute_result"
    }
   ],
   "source": [
    "stocks_open"
   ]
  },
  {
   "cell_type": "code",
   "execution_count": 237,
   "metadata": {},
   "outputs": [
    {
     "data": {
      "text/plain": [
       "array([-0.05955341, -0.01185773, -0.07152317,  0.00143475, -0.06515581,\n",
       "       -0.10151516,  0.02941182,  0.00969304,  0.00967749, -0.00494237,\n",
       "        0.19386103, -0.04320992, -0.03494627,  0.        , -0.00508905,\n",
       "       -0.00248145, -0.04310344, -0.01315788, -0.03557312, -0.08463537,\n",
       "        0.01038578, -0.09927005,  0.02870811,  0.02254426, -0.0520674 ,\n",
       "       -0.04032258, -0.02960524,  0.10333331, -0.05116965,  0.02453985])"
      ]
     },
     "execution_count": 237,
     "metadata": {},
     "output_type": "execute_result"
    }
   ],
   "source": [
    "stocks_close/stocks_open-1"
   ]
  },
  {
   "cell_type": "code",
   "execution_count": 236,
   "metadata": {},
   "outputs": [
    {
     "data": {
      "text/plain": [
       "-1"
      ]
     },
     "execution_count": 236,
     "metadata": {},
     "output_type": "execute_result"
    }
   ],
   "source": [
    "-1"
   ]
  },
  {
   "cell_type": "code",
   "execution_count": 239,
   "metadata": {},
   "outputs": [
    {
     "data": {
      "text/plain": [
       "False"
      ]
     },
     "execution_count": 239,
     "metadata": {},
     "output_type": "execute_result"
    }
   ],
   "source": [
    "None!=None"
   ]
  },
  {
   "cell_type": "code",
   "execution_count": 251,
   "metadata": {},
   "outputs": [
    {
     "data": {
      "text/plain": [
       "['null',\n",
       " 'null',\n",
       " 'null',\n",
       " 'null',\n",
       " 'null',\n",
       " 'null',\n",
       " 'null',\n",
       " 'null',\n",
       " 'null',\n",
       " 'null',\n",
       " 'null',\n",
       " 'null',\n",
       " 'null',\n",
       " 'null',\n",
       " 'null',\n",
       " 'null',\n",
       " 'null',\n",
       " 'null',\n",
       " 'null',\n",
       " 'null',\n",
       " 'null',\n",
       " 'null',\n",
       " 'null',\n",
       " 'null',\n",
       " 'null',\n",
       " 'null',\n",
       " 'null',\n",
       " 'null',\n",
       " 'null',\n",
       " 'null']"
      ]
     },
     "execution_count": 251,
     "metadata": {},
     "output_type": "execute_result"
    }
   ],
   "source": [
    "stocks"
   ]
  },
  {
   "cell_type": "code",
   "execution_count": 252,
   "metadata": {},
   "outputs": [
    {
     "name": "stdout",
     "output_type": "stream",
     "text": [
      "[*********************100%***********************]  1 of 1 completed\n",
      "\n",
      "1 Failed download:\n",
      "- NIO: 1h data not available for startTime=1541289600 and endTime=1541462400. The requested range must be within the last 730 days.\n"
     ]
    }
   ],
   "source": [
    "stocks = yf.download('NIO',start_date,end_date, interval='1h')\n",
    "stocks_close = stocks['Adj Close'][-hours_amount:].values\n",
    "stocks_open = stocks['Open'][-hours_amount:].values"
   ]
  },
  {
   "cell_type": "code",
   "execution_count": null,
   "metadata": {},
   "outputs": [],
   "source": []
  }
 ],
 "metadata": {
  "kernelspec": {
   "display_name": "Python 3 (ipykernel)",
   "language": "python",
   "name": "python3"
  },
  "language_info": {
   "codemirror_mode": {
    "name": "ipython",
    "version": 3
   },
   "file_extension": ".py",
   "mimetype": "text/x-python",
   "name": "python",
   "nbconvert_exporter": "python",
   "pygments_lexer": "ipython3",
   "version": "3.9.7"
  }
 },
 "nbformat": 4,
 "nbformat_minor": 4
}
